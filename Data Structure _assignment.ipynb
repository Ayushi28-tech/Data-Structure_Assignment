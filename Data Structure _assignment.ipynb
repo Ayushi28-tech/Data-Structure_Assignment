{
 "cells": [
  {
   "cell_type": "markdown",
   "id": "15a125ca",
   "metadata": {},
   "source": [
    "# Data Types and Structures Questions"
   ]
  },
  {
   "cell_type": "markdown",
   "id": "494bfbeb",
   "metadata": {},
   "source": [
    "1.What are data structures, and why are they important?\n",
    "\n",
    "-> Data structures are specialized formats for organizing, storing, and accessing collections of data. They provide efficient      ways to manage information based on its characteristics and intended use.\n",
    "\n",
    "->Why they are important:\n",
    "   \n",
    "    -Choosing the right data structure significantly impacts the efficiency and perfornce of our program.\n",
    "    -Optimize searching and sorting operations.\n",
    "    -Converse memory usage."
   ]
  },
  {
   "cell_type": "markdown",
   "id": "d395fc8e",
   "metadata": {},
   "source": [
    "2.Explain the difference between mutable and immutable data types with examples.\n",
    "\n",
    "-> Mutable data types are those whose values can be changed or modified after they are created.\n",
    "\n",
    "   Examples of mutable data types: List, Dictionary, and Set are mutable data types\n",
    "   "
   ]
  },
  {
   "cell_type": "code",
   "execution_count": 1,
   "id": "d3604d21",
   "metadata": {},
   "outputs": [
    {
     "name": "stdout",
     "output_type": "stream",
     "text": [
      "[10, 2, 3, 4]\n"
     ]
    }
   ],
   "source": [
    "my_list = [1, 2, 3]\n",
    "my_list[0] = 10  # modify an element\n",
    "my_list.append(4) # add an element\n",
    "print(my_list)"
   ]
  },
  {
   "cell_type": "markdown",
   "id": "4731589d",
   "metadata": {},
   "source": [
    "-> Immutable data types are those whose values cannot be changed or modified after they are created.\n",
    "\n",
    "Examples of immutable data types: Tuple, String, and Frozenset are immutable data types"
   ]
  },
  {
   "cell_type": "code",
   "execution_count": 2,
   "id": "8bafe2d4",
   "metadata": {},
   "outputs": [
    {
     "ename": "TypeError",
     "evalue": "'tuple' object does not support item assignment",
     "output_type": "error",
     "traceback": [
      "\u001b[1;31m---------------------------------------------------------------------------\u001b[0m",
      "\u001b[1;31mTypeError\u001b[0m                                 Traceback (most recent call last)",
      "\u001b[1;32m<ipython-input-2-0d2e200a7567>\u001b[0m in \u001b[0;36m<module>\u001b[1;34m\u001b[0m\n\u001b[0;32m      1\u001b[0m \u001b[0mmy_tuple\u001b[0m \u001b[1;33m=\u001b[0m \u001b[1;33m(\u001b[0m\u001b[1;36m1\u001b[0m\u001b[1;33m,\u001b[0m \u001b[1;36m2\u001b[0m\u001b[1;33m,\u001b[0m \u001b[1;36m3\u001b[0m\u001b[1;33m)\u001b[0m\u001b[1;33m\u001b[0m\u001b[1;33m\u001b[0m\u001b[0m\n\u001b[1;32m----> 2\u001b[1;33m \u001b[0mmy_tuple\u001b[0m\u001b[1;33m[\u001b[0m\u001b[1;36m0\u001b[0m\u001b[1;33m]\u001b[0m \u001b[1;33m=\u001b[0m \u001b[1;36m10\u001b[0m\u001b[1;33m\u001b[0m\u001b[1;33m\u001b[0m\u001b[0m\n\u001b[0m\u001b[0;32m      3\u001b[0m \u001b[0mmy_tuple\u001b[0m\u001b[1;33m.\u001b[0m\u001b[0mappend\u001b[0m\u001b[1;33m(\u001b[0m\u001b[1;36m4\u001b[0m\u001b[1;33m)\u001b[0m\u001b[1;33m\u001b[0m\u001b[1;33m\u001b[0m\u001b[0m\n\u001b[0;32m      4\u001b[0m \u001b[0mprint\u001b[0m\u001b[1;33m(\u001b[0m\u001b[0mmy_tuple\u001b[0m\u001b[1;33m)\u001b[0m\u001b[1;33m\u001b[0m\u001b[1;33m\u001b[0m\u001b[0m\n",
      "\u001b[1;31mTypeError\u001b[0m: 'tuple' object does not support item assignment"
     ]
    }
   ],
   "source": [
    "my_tuple = (1, 2, 3)\n",
    "my_tuple[0] = 10  # modify an element\n",
    "my_tuple.append(4)  # add an element\n",
    "print(my_tuple)"
   ]
  },
  {
   "cell_type": "markdown",
   "id": "2e197755",
   "metadata": {},
   "source": [
    "3.What are the main differences between lists and tuples in Python?\n",
    "\n",
    "-> Mutability:\n",
    "\n",
    "List: Mutable, meaning we can change, add, or remove elements after it's created.\n",
    "\n",
    "Tuple: Immutable, meaning once created, we cannot modify its elements, add new ones, or remove any."
   ]
  },
  {
   "cell_type": "markdown",
   "id": "828fbe5f",
   "metadata": {},
   "source": [
    "-> Syntax:\n",
    "\n",
    "   List: Defined using square brackets [].\n",
    "   \n",
    "   Tuples: Defined using parentheses ().\n",
    "    "
   ]
  },
  {
   "cell_type": "markdown",
   "id": "87c4cc64",
   "metadata": {},
   "source": [
    "-> Use Case:\n",
    "\n",
    "List: Ideal when we need to modify the collection of items(add, remove, update elements).\n",
    "\n",
    "Tuple: Ideal when we ned a constant collection of items, where immutability gurantees the data won't change accidentally."
   ]
  },
  {
   "cell_type": "markdown",
   "id": "cd7b36d1",
   "metadata": {},
   "source": [
    "4.Describe how dictionaries store data.\n",
    "\n",
    "-> Dictionaries store data as key-value pairs using a hash table. Each key is hashed to a unique value that determines where the key-value pairs is stored in memory. This allows for fast lookups, insertions, and deletions. Keys must be immutable and unique, while values can be of any type."
   ]
  },
  {
   "cell_type": "markdown",
   "id": "57d50c52",
   "metadata": {},
   "source": [
    "5.Why might you use a set instead of a list in Python?\n",
    "\n",
    "-> A set in python has distinct characteristics that make it more suitable than a list in a certain scenarious:\n",
    "\n",
    "-Uniqueness: Sets automatically remove duplicates.\n",
    "\n",
    "-Fast Membership Testing: Sets are faster for 'in' checks due to their hash-based implementation.\n",
    "\n",
    "-Set Operations: Support for union, intersection, and difference.\n",
    "\n",
    "-Unordered Collection: Use when order doesn't matter.\n",
    "\n",
    "-Performance: Sets are more efficient for large datasets."
   ]
  },
  {
   "cell_type": "markdown",
   "id": "047fbaec",
   "metadata": {},
   "source": [
    "6.What is a string in Python, and how is it different from a list?\n",
    "\n",
    "->String is a sequence of characters which is represent and manipulate the textual data. Strings are immutable, meaning they cannot be changed after creation. Characters are represented using numerical values each character isassigned a unique value.\n",
    "\n",
    "->Difference:\n",
    "\n",
    "-Mutability: Strings are immutable, lists are mutable.\n",
    "\n",
    "-Data Type Flexibility: Strings hold only characters; lists can hold mixed data types.\n",
    "\n",
    "-Operations: Strings support text-specific operations (e.g., .upper(), .split()), while lists support element-specific operations (e.g., .append(), .remove()).\n",
    "\n",
    "-Use Cases: Strings are ideal for textual data, while lists are suitable for collections of items."
   ]
  },
  {
   "cell_type": "markdown",
   "id": "4dbd65f6",
   "metadata": {},
   "source": [
    "7.How do tuples ensure data integrity in Python?\n",
    "\n",
    "->Tuples in Python ensure data integrity primarily through their immutability. Once a tuple is created, its elements cannot be modified, added, or removed. This characteristic makes tuples ideal for storing data that should not be altered"
   ]
  },
  {
   "cell_type": "markdown",
   "id": "0bc93621",
   "metadata": {},
   "source": [
    "8.What is a hash table, and how does it relate to dictionaries in Python?\n",
    "\n",
    "->A hash table is a data structure that stores key-value pairs and allows for fast retrieval of values based on keys. It uses a hash function to compute an index (or hash code) into an array of buckets or slots, from which the desired value can be found.\n",
    "\n",
    "-> Dictionaries are implemented as hash tables, making them highly efficient for storing and retrieving data based on keys.\n",
    "Dictionaries store data as key-value pairs using a hash table. Each key is hashed to a unique value that determines where the key-value pairs is stored in memory. This allows for fast lookups, insertions, and deletions."
   ]
  },
  {
   "cell_type": "markdown",
   "id": "467c203d",
   "metadata": {},
   "source": [
    "9.Can lists contain different data types in Python?\n",
    "\n",
    "->Yes, lists in Python can contain elements of different data types. Python lists are versatile and can store integers, floats, strings, booleans, other lists, tuples, dictionaries, or even custom objects, all in the same list."
   ]
  },
  {
   "cell_type": "markdown",
   "id": "277889a0",
   "metadata": {},
   "source": [
    "10.Explain why strings are immutable in Python.\n",
    "\n",
    "->Immutability means that once a string is created, its value cannot be changed. If you perform operations on a string, a new string is created rather than modifying the original string. Here's why Python strings are immutable:\n",
    "\n",
    "-Memory Efficiency: Strings are reused in memory if identical, saving resources.\n",
    "\n",
    "-Hashability: Strings can be used as dictionary keys or set elements.\n",
    "\n",
    "-Thread-Safety: Immutable strings are safe in multi-threaded environments.\n",
    "\n",
    "-Simplified Debugging: Prevents accidental changes, reducing bugs.\n",
    "\n",
    "-Predictable Behavior: Operations create new strings, leaving the original unchanged.\n",
    "\n",
    "->Example:\n",
    "\n",
    "s = \"hello\"\n",
    "\n",
    "new_s = s.upper()  # Creates a new string \"HELLO\"\n",
    "\n",
    "print(s)  # Output: \"hello\" (unchanged)"
   ]
  },
  {
   "cell_type": "markdown",
   "id": "7a7e39cf",
   "metadata": {},
   "source": [
    "11.What advantages do dictionaries offer over lists for certain tasks?\n",
    "\n",
    "->Dictionaries store data as key-value pairs, making it easier to retrieve data based on a unique identifier (key) instead of an index.\n",
    "\n",
    "->Keys in dictionaries can be descriptive, making the data more readable and meaningful compared to positional indexes in lists.\n",
    "\n",
    "->Keys in dictionaries are unique, automatically preventing duplicate entries.\n",
    "\n",
    "->Dictionaries allow associating related pieces of information without the need for a fixed structure.\n",
    "\n",
    "->Dictionary keys must be hashable, but the values can be of any data type (even other dictionaries or lists)."
   ]
  },
  {
   "cell_type": "markdown",
   "id": "8dd1b2bc",
   "metadata": {},
   "source": [
    "12.Describe a scenario where using a tuple would be preferable over a list.\n",
    "\n",
    "->If we have a collection of data that should not change throughout the program's execution, a tuple is the better choice because it is immutable.\n",
    "\n",
    "->Fixed Data Structures: When storing predefined, constant values like days of the week or months of the year."
   ]
  },
  {
   "cell_type": "markdown",
   "id": "2f1521eb",
   "metadata": {},
   "source": [
    "13.How do sets handle duplicate values in Python?\n",
    "\n",
    "->Sets in Python handle duplicates by automatically removing duplicate values during insertion. This makes sets ideal for tasks requiring unique collections of elements, such as eliminating duplicates or performing set operations (union, intersection, etc.).\n",
    "\n",
    "->Example:\n",
    "\n",
    "my_set = {1, 2, 2, 3, 4, 4, 4}\n",
    "\n",
    "print(my_set)  # Output: {1, 2, 3, 4}"
   ]
  },
  {
   "cell_type": "markdown",
   "id": "7b912123",
   "metadata": {},
   "source": [
    "14.How does the “in” keyword work differently for lists and dictionaries?\n",
    "\n",
    "->The \"in\" keyword is used to check for membership in Python, but its behavior differs for lists and dictionaries due to the underlying data structures.\n",
    "\n",
    "->\"in\" with Lists: The \"in\" keyword checks if a value exists as an element in the list.\n",
    "\n",
    "Example:\n",
    "\n",
    "my_list = [1, 2, 3, 4, 5]\n",
    "\n",
    "print(3 in my_list)  # Output: True (3 is an element of the list)\n",
    "\n",
    "print(6 in my_list)  # Output: False (6 is not an element of the list)\n",
    "\n",
    "->\"in\" with Dictionaries: The \"in\" keyword checks if a value exists as a key in the dictionary, not the values.\n",
    "\n",
    "Example:\n",
    "\n",
    "my_dict = {\"name\": \"Alice\", \"age\": 30, \"city\": \"New York\"}\n",
    "\n",
    "print(\"name\" in my_dict)  # Output: True (checks for the key \"name\")\n",
    "\n",
    "print(\"Alice\" in my_dict)  # Output: False (does not check values)"
   ]
  },
  {
   "cell_type": "markdown",
   "id": "12f3e7bc",
   "metadata": {},
   "source": [
    "15.Can you modify the elements of a tuple? Explain why or why not.\n",
    "\n",
    "->No, we cannot modify the elements of a tuple in Python because tuples are immutable. Once a tuple is created, its elements cannot be changed, added, or removed.\n",
    "\n",
    "->Why?: Ensures data integrity, enables hashability, and improves performance.\n",
    "\n",
    "->Why not?: If a tuple contains mutable objects (like lists), their contents can still be modified, but the tuple's structure (its sequence of elements) cannot be changed."
   ]
  },
  {
   "cell_type": "markdown",
   "id": "5f82ed7d",
   "metadata": {},
   "source": [
    "16.What is a nested dictionary, and give an example of its use case?\n",
    "\n",
    "->A nested dictionary is a dictionary where one or more of the values are themselves dictionaries. This allows you to store hierarchical or complex data in a structured way. Essentially, a nested dictionary is a dictionary inside another dictionary.\n",
    "\n",
    "->Use Case Example: Storing Employee Information\n",
    "\n",
    "-A nested dictionary is useful for organizing data that has multiple attributes associated with each entry. For example, in a company, you might store employee information such as name, age, position, and salary.\n",
    "\n",
    "employees = {\n",
    "    \"E001\": {\"name\": \"Ayushi Jaiswal\", \"position\": \"Manager\", \"salary\": 75000},\n",
    "    \"E002\": {\"name\": \"Mamata Singh\", \"position\": \"Developer\", \"salary\": 65000},\n",
    "    \"E003\": {\"name\": \"Deepak Pandey\", \"position\": \"Designer\", \"salary\": 55000}\n",
    "}\n",
    "\n",
    "#Accessing the position of employee E002\n",
    "\n",
    "print(employees[\"E002\"][\"position\"])  # Output: Developer\n",
    "\n",
    "#Accessing the salary of employee E003\n",
    "\n",
    "print(employees[\"E003\"][\"salary\"])  # Output: 55000"
   ]
  },
  {
   "cell_type": "markdown",
   "id": "073a8f54",
   "metadata": {},
   "source": [
    "17.Describe the time complexity of accessing elements in a dictionary.\n",
    "\n",
    "->In Python, dictionaries are implemented using hash tables, which allow for very efficient key-based lookups. The average time complexity for accessing an element (i.e., retrieving a value given a key) in a dictionary is O(1), also known as constant time."
   ]
  },
  {
   "cell_type": "markdown",
   "id": "c60b0ce6",
   "metadata": {},
   "source": [
    "18.In what situations are lists preferred over dictionaries?\n",
    "\n",
    "->While dictionaries are incredibly useful for key-value pair storage and fast lookups, there are certain scenarios where lists are the better choice. Here are the main situations where lists are preferred:\n",
    "\n",
    "-> When we Need Ordered Data:\n",
    "\n",
    "-Lists maintain the order of elements, so if the sequence of data matters, a list is ideal.\n",
    "\n",
    "-If we need to access elements by their position or index, lists are the natural choice.\n",
    "\n",
    "-> When we Need to Store Duplicate Elements:\n",
    "\n",
    "-Lists allow duplicates. If you want to store multiple occurrences of the same item, a list is preferred over a dictionary, which requires unique keys.\n",
    "\n",
    "-> When we Need to Perform Operations on Sequences:\n",
    "\n",
    "-Lists support various operations like sorting, slicing, and iterating over sequences. These operations are particularly useful when working with ordered collections.\n"
   ]
  },
  {
   "cell_type": "markdown",
   "id": "d3683c63",
   "metadata": {},
   "source": [
    "19.Why are dictionaries considered unordered, and how does that affect data retrieval?\n",
    "\n",
    "->Python dictionaries were considered unordered because they did not maintain the order in which items were inserted, and their primary focus is fast key-based lookups, not maintaining a predictable order.\n",
    "\n",
    "-> Effect on data retrieval: You cannot use indexing; retrieval depends solely on the key, making dictionaries efficient for fast lookups but less suitable for operations requiring sequential access by position."
   ]
  },
  {
   "cell_type": "markdown",
   "id": "765c5979",
   "metadata": {},
   "source": [
    "20.Explain the difference between a list and a dictionary in terms of data retrieval.\n",
    "\n",
    "->Both lists and dictionaries are fundamental data structures in Python, but they differ significantly in how data is stored and retrieved.\n",
    "\n",
    "->Retrieval Method: \n",
    "\n",
    "Lists:\n",
    "\n",
    "-Data is retrieved using an index (a numerical position starting from 0).\n",
    "\n",
    "-The order of elements is maintained, and you can access elements sequentially or randomly by their position.\n",
    "\n",
    "Dictionaries:\n",
    "\n",
    "-Data is retrieved using a key, which can be any immutable type (e.g., string, number, tuple).\n",
    "\n",
    "-Dictionaries do not use numerical positions for retrieval; instead, they use hashing to quickly locate values associated with a given key.\n",
    "\n",
    "->Order Preservation:\n",
    "\n",
    "Lists:\n",
    "\n",
    "-Maintain the order of elements, which means you can rely on the sequence of elements as they were inserted.\n",
    "\n",
    "Dictionaries:\n",
    "\n",
    "-Before Python 3.7: Dictionaries were considered unordered, so the order of keys was not guaranteed.\n",
    "\n",
    "-Python 3.7 and later: Dictionaries preserve the insertion order of keys.\n",
    "\n",
    "->Duplicate Handling:\n",
    "\n",
    "Lists:\n",
    "\n",
    "-Allow duplicate elements.\n",
    "\n",
    "-Example: [10, 20, 20, 30] is valid.\n",
    "\n",
    "Dictinories:\n",
    "\n",
    "-Keys must be unique, but values can be duplicated.\n",
    "\n",
    "-Example:\n",
    "\n",
    "my_dict = {\"a\": 10, \"b\": 10, \"c\": 30}  # Values can repeat, but keys cannot"
   ]
  },
  {
   "cell_type": "markdown",
   "id": "d2fefc2f",
   "metadata": {},
   "source": [
    "# Practical Questions"
   ]
  },
  {
   "cell_type": "code",
   "execution_count": 1,
   "id": "5278c39a",
   "metadata": {},
   "outputs": [
    {
     "name": "stdout",
     "output_type": "stream",
     "text": [
      "My name is Ayushi\n"
     ]
    }
   ],
   "source": [
    "#1. Write a code to create a string with your name and print it.\n",
    "\n",
    "name = \"Ayushi\"\n",
    "print(\"My name is\", name)"
   ]
  },
  {
   "cell_type": "code",
   "execution_count": 3,
   "id": "a7e518a6",
   "metadata": {},
   "outputs": [
    {
     "name": "stdout",
     "output_type": "stream",
     "text": [
      "The length of the string is: 11\n"
     ]
    }
   ],
   "source": [
    "#2. Write a code to find the length of the string \"Hello World\".\n",
    "\n",
    "string = \"Hello World\"\n",
    "length = len(string)\n",
    "print(\"The length of the string is:\", length)"
   ]
  },
  {
   "cell_type": "code",
   "execution_count": 5,
   "id": "726cba41",
   "metadata": {},
   "outputs": [
    {
     "name": "stdout",
     "output_type": "stream",
     "text": [
      "The first 3 charcters from the string are: Pyt\n"
     ]
    }
   ],
   "source": [
    "#3. Write a code to slice the first 3 characters from the string \"Python Programming\".\n",
    "\n",
    "string1= \"Python Programming\"\n",
    "slicing = string1[ :3]\n",
    "print(\"The first 3 charcters from the string are:\", slicing)"
   ]
  },
  {
   "cell_type": "code",
   "execution_count": 6,
   "id": "261fb781",
   "metadata": {},
   "outputs": [
    {
     "data": {
      "text/plain": [
       "'HELLO'"
      ]
     },
     "execution_count": 6,
     "metadata": {},
     "output_type": "execute_result"
    }
   ],
   "source": [
    "#4. Write a code to convert the string \"hello\" to uppercase.\n",
    "\n",
    "string3 = \"hello\"\n",
    "string3.upper()"
   ]
  },
  {
   "cell_type": "code",
   "execution_count": 7,
   "id": "79d5d5ab",
   "metadata": {},
   "outputs": [
    {
     "data": {
      "text/plain": [
       "'I like orange'"
      ]
     },
     "execution_count": 7,
     "metadata": {},
     "output_type": "execute_result"
    }
   ],
   "source": [
    "#5. Write a code to replace the word \"apple\" with \"orange\" in the string \"I like apple\".\n",
    "\n",
    "string4 = \"I like apple\"\n",
    "string4.replace(\"apple\",\"orange\")"
   ]
  },
  {
   "cell_type": "code",
   "execution_count": 8,
   "id": "4a73d193",
   "metadata": {},
   "outputs": [
    {
     "name": "stdout",
     "output_type": "stream",
     "text": [
      "A list with numbers are: [1, 2, 3, 4, 5]\n"
     ]
    }
   ],
   "source": [
    "#6. Write a code to create a list with numbers 1 to 5 and print it.\n",
    "\n",
    "my_list = []\n",
    "for i in range(1,6):\n",
    "    my_list.append(i)\n",
    "    \n",
    "print(\"A list with numbers are:\", my_list)"
   ]
  },
  {
   "cell_type": "code",
   "execution_count": 10,
   "id": "e892aa45",
   "metadata": {},
   "outputs": [
    {
     "data": {
      "text/plain": [
       "[1, 2, 3, 4, 10]"
      ]
     },
     "execution_count": 10,
     "metadata": {},
     "output_type": "execute_result"
    }
   ],
   "source": [
    "#7. Write a code to append the number 10 to the list [1, 2, 3, 4].\n",
    "\n",
    "my_list1 = [1, 2, 3, 4]\n",
    "my_list1.append(10)\n",
    "my_list1"
   ]
  },
  {
   "cell_type": "code",
   "execution_count": 11,
   "id": "f72673ea",
   "metadata": {},
   "outputs": [
    {
     "data": {
      "text/plain": [
       "[1, 2, 4, 5]"
      ]
     },
     "execution_count": 11,
     "metadata": {},
     "output_type": "execute_result"
    }
   ],
   "source": [
    "#8. Write a code to remove the number 3 from the list [1, 2, 3, 4, 5].\n",
    "\n",
    "my_list2 = [1, 2, 3, 4, 5]\n",
    "my_list2.remove(3)\n",
    "my_list2"
   ]
  },
  {
   "cell_type": "code",
   "execution_count": 12,
   "id": "d34e7618",
   "metadata": {},
   "outputs": [
    {
     "name": "stdout",
     "output_type": "stream",
     "text": [
      "the second element of the list is: b\n"
     ]
    }
   ],
   "source": [
    "#9. Write a code to access the second element in the list ['a', 'b', 'c', 'd'].\n",
    "\n",
    "my_list3 = ['a', 'b', 'c', 'd']\n",
    "access = my_list3[1]\n",
    "print(\"the second element of the list is:\", access)"
   ]
  },
  {
   "cell_type": "code",
   "execution_count": 13,
   "id": "71c0c600",
   "metadata": {},
   "outputs": [
    {
     "name": "stdout",
     "output_type": "stream",
     "text": [
      "The reverse of the list is: [50, 40, 30, 20, 10]\n"
     ]
    }
   ],
   "source": [
    "#10. Write a code to reverse the list [10, 20, 30, 40, 50].\n",
    "\n",
    "my_list4 = [10, 20, 30, 40, 50]\n",
    "my_list4.reverse()\n",
    "print(\"The reverse of the list is:\", my_list4)"
   ]
  },
  {
   "cell_type": "code",
   "execution_count": 1,
   "id": "fcd3f07f",
   "metadata": {},
   "outputs": [
    {
     "name": "stdout",
     "output_type": "stream",
     "text": [
      "(10, 20, 30)\n"
     ]
    }
   ],
   "source": [
    "#11. Write a code to create a tuple with the elements 10, 20, 30 and print it.\n",
    "\n",
    "# Create a tuple without parentheses\n",
    "my_tuple = 10, 20, 30\n",
    "\n",
    "print(my_tuple)"
   ]
  },
  {
   "cell_type": "code",
   "execution_count": 2,
   "id": "0c914e69",
   "metadata": {},
   "outputs": [
    {
     "name": "stdout",
     "output_type": "stream",
     "text": [
      "The first element of the tuple is: apple\n"
     ]
    }
   ],
   "source": [
    "#12. Write a code to access the first element of the tuple ('apple', 'banana', 'cherry').\n",
    "\n",
    "my_tuple1 = ('apple', 'banana', 'cherry')\n",
    "first = my_tuple1[0]\n",
    "print(\"The first element of the tuple is:\", first)"
   ]
  },
  {
   "cell_type": "code",
   "execution_count": 3,
   "id": "0803af05",
   "metadata": {},
   "outputs": [
    {
     "name": "stdout",
     "output_type": "stream",
     "text": [
      "The number 2 appears in the tuple is: 3\n"
     ]
    }
   ],
   "source": [
    "#13. Write a code to count how many times the number 2 appears in the tuple (1, 2, 3, 2, 4, 2).\n",
    "\n",
    "my_tuple2 = (1, 2, 3, 2, 4, 2)\n",
    "appear = my_tuple2.count(2)\n",
    "print(\"The number 2 appears in the tuple is:\", appear)"
   ]
  },
  {
   "cell_type": "code",
   "execution_count": 4,
   "id": "7b416ad1",
   "metadata": {},
   "outputs": [
    {
     "data": {
      "text/plain": [
       "1"
      ]
     },
     "execution_count": 4,
     "metadata": {},
     "output_type": "execute_result"
    }
   ],
   "source": [
    "#14. Write a code to find the index of the element \"cat\" in the tuple ('dog', 'cat', 'rabbit').\n",
    "\n",
    "my_tuple3 = ('dog', 'cat', 'rabbit')\n",
    "my_tuple3.index(\"cat\")"
   ]
  },
  {
   "cell_type": "code",
   "execution_count": 5,
   "id": "21e2d356",
   "metadata": {},
   "outputs": [
    {
     "data": {
      "text/plain": [
       "True"
      ]
     },
     "execution_count": 5,
     "metadata": {},
     "output_type": "execute_result"
    }
   ],
   "source": [
    "#15. Write a code to check if the element \"banana\" is in the tuple ('apple', 'orange', 'banana').\n",
    "\n",
    "my_tuple4 = ('apple', 'orange', 'banana')\n",
    "\n",
    "#check if the element \"banana\" is in the tuple\n",
    "\"banana\" in my_tuple4"
   ]
  },
  {
   "cell_type": "code",
   "execution_count": 6,
   "id": "a7bf6eab",
   "metadata": {},
   "outputs": [
    {
     "name": "stdout",
     "output_type": "stream",
     "text": [
      "{1, 2, 3, 4, 5}\n"
     ]
    }
   ],
   "source": [
    "#16. Write a code to create a set with the elements 1, 2, 3, 4, 5 and print it.\n",
    "\n",
    "my_set = {1, 2, 3, 4, 5}\n",
    "\n",
    "print(my_set)"
   ]
  },
  {
   "cell_type": "code",
   "execution_count": 8,
   "id": "988af547",
   "metadata": {},
   "outputs": [
    {
     "data": {
      "text/plain": [
       "{1, 2, 3, 4, 6}"
      ]
     },
     "execution_count": 8,
     "metadata": {},
     "output_type": "execute_result"
    }
   ],
   "source": [
    "#17. Write a code to add the element 6 to the set {1, 2, 3, 4}.\n",
    "\n",
    "my_set1 = {1, 2, 3, 4}\n",
    "my_set1.add(6)\n",
    "my_set1"
   ]
  },
  {
   "cell_type": "markdown",
   "id": "a91f2867",
   "metadata": {},
   "source": [
    "Note: 18, 19, 20, 21, 22, 23, and 24 questions same as 11, 12, 13, 14, 15, 16, and 17 questions which was already done."
   ]
  },
  {
   "cell_type": "code",
   "execution_count": null,
   "id": "397ea7c6",
   "metadata": {},
   "outputs": [],
   "source": []
  }
 ],
 "metadata": {
  "kernelspec": {
   "display_name": "Python 3",
   "language": "python",
   "name": "python3"
  },
  "language_info": {
   "codemirror_mode": {
    "name": "ipython",
    "version": 3
   },
   "file_extension": ".py",
   "mimetype": "text/x-python",
   "name": "python",
   "nbconvert_exporter": "python",
   "pygments_lexer": "ipython3",
   "version": "3.8.8"
  }
 },
 "nbformat": 4,
 "nbformat_minor": 5
}
